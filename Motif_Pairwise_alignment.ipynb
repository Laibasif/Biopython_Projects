{
  "cells": [
    {
      "cell_type": "markdown",
      "metadata": {
        "id": "view-in-github",
        "colab_type": "text"
      },
      "source": [
        "<a href=\"https://colab.research.google.com/github/Laibasif/Biopython_Projects/blob/main/Motif_Pairwise_alignment.ipynb\" target=\"_parent\"><img src=\"https://colab.research.google.com/assets/colab-badge.svg\" alt=\"Open In Colab\"/></a>"
      ]
    },
    {
      "cell_type": "markdown",
      "metadata": {
        "id": "CZLKl8BniJKp"
      },
      "source": []
    },
    {
      "cell_type": "markdown",
      "metadata": {
        "id": "-gsSH7aMhtCc"
      },
      "source": [
        "### **Install Biopython**"
      ]
    },
    {
      "cell_type": "code",
      "execution_count": null,
      "metadata": {
        "colab": {
          "base_uri": "https://localhost:8080/"
        },
        "id": "JN6BHoi4eHl4",
        "outputId": "00240211-3052-4b8c-9779-34c057dd540b"
      },
      "outputs": [
        {
          "name": "stdout",
          "output_type": "stream",
          "text": [
            "Collecting biopython\n",
            "  Downloading biopython-1.85-cp311-cp311-manylinux_2_17_x86_64.manylinux2014_x86_64.whl.metadata (13 kB)\n",
            "Requirement already satisfied: numpy in /usr/local/lib/python3.11/dist-packages (from biopython) (1.26.4)\n",
            "Downloading biopython-1.85-cp311-cp311-manylinux_2_17_x86_64.manylinux2014_x86_64.whl (3.3 MB)\n",
            "\u001b[?25l   \u001b[90m━━━━━━━━━━━━━━━━━━━━━━━━━━━━━━━━━━━━━━━━\u001b[0m \u001b[32m0.0/3.3 MB\u001b[0m \u001b[31m?\u001b[0m eta \u001b[36m-:--:--\u001b[0m\r\u001b[2K   \u001b[91m━━━\u001b[0m\u001b[91m╸\u001b[0m\u001b[90m━━━━━━━━━━━━━━━━━━━━━━━━━━━━━━━━━━━━\u001b[0m \u001b[32m0.3/3.3 MB\u001b[0m \u001b[31m8.5 MB/s\u001b[0m eta \u001b[36m0:00:01\u001b[0m\r\u001b[2K   \u001b[91m━━━━━━━━━━━━━━━━━━━━━━━━━━━━━━━━━━━━━━━\u001b[0m\u001b[91m╸\u001b[0m \u001b[32m3.3/3.3 MB\u001b[0m \u001b[31m48.8 MB/s\u001b[0m eta \u001b[36m0:00:01\u001b[0m\r\u001b[2K   \u001b[90m━━━━━━━━━━━━━━━━━━━━━━━━━━━━━━━━━━━━━━━━\u001b[0m \u001b[32m3.3/3.3 MB\u001b[0m \u001b[31m36.8 MB/s\u001b[0m eta \u001b[36m0:00:00\u001b[0m\n",
            "\u001b[?25hInstalling collected packages: biopython\n",
            "Successfully installed biopython-1.85\n"
          ]
        }
      ],
      "source": [
        "pip install biopython"
      ]
    },
    {
      "cell_type": "code",
      "execution_count": null,
      "metadata": {
        "colab": {
          "base_uri": "https://localhost:8080/",
          "height": 73
        },
        "id": "J_SDGDqVfcDI",
        "outputId": "a98a30d7-484f-4927-8d10-8562894876bc"
      },
      "outputs": [
        {
          "data": {
            "text/html": [
              "\n",
              "     <input type=\"file\" id=\"files-a2b1ae8b-51ab-48d1-9e4d-7b47722caa91\" name=\"files[]\" multiple disabled\n",
              "        style=\"border:none\" />\n",
              "     <output id=\"result-a2b1ae8b-51ab-48d1-9e4d-7b47722caa91\">\n",
              "      Upload widget is only available when the cell has been executed in the\n",
              "      current browser session. Please rerun this cell to enable.\n",
              "      </output>\n",
              "      <script>// Copyright 2017 Google LLC\n",
              "//\n",
              "// Licensed under the Apache License, Version 2.0 (the \"License\");\n",
              "// you may not use this file except in compliance with the License.\n",
              "// You may obtain a copy of the License at\n",
              "//\n",
              "//      http://www.apache.org/licenses/LICENSE-2.0\n",
              "//\n",
              "// Unless required by applicable law or agreed to in writing, software\n",
              "// distributed under the License is distributed on an \"AS IS\" BASIS,\n",
              "// WITHOUT WARRANTIES OR CONDITIONS OF ANY KIND, either express or implied.\n",
              "// See the License for the specific language governing permissions and\n",
              "// limitations under the License.\n",
              "\n",
              "/**\n",
              " * @fileoverview Helpers for google.colab Python module.\n",
              " */\n",
              "(function(scope) {\n",
              "function span(text, styleAttributes = {}) {\n",
              "  const element = document.createElement('span');\n",
              "  element.textContent = text;\n",
              "  for (const key of Object.keys(styleAttributes)) {\n",
              "    element.style[key] = styleAttributes[key];\n",
              "  }\n",
              "  return element;\n",
              "}\n",
              "\n",
              "// Max number of bytes which will be uploaded at a time.\n",
              "const MAX_PAYLOAD_SIZE = 100 * 1024;\n",
              "\n",
              "function _uploadFiles(inputId, outputId) {\n",
              "  const steps = uploadFilesStep(inputId, outputId);\n",
              "  const outputElement = document.getElementById(outputId);\n",
              "  // Cache steps on the outputElement to make it available for the next call\n",
              "  // to uploadFilesContinue from Python.\n",
              "  outputElement.steps = steps;\n",
              "\n",
              "  return _uploadFilesContinue(outputId);\n",
              "}\n",
              "\n",
              "// This is roughly an async generator (not supported in the browser yet),\n",
              "// where there are multiple asynchronous steps and the Python side is going\n",
              "// to poll for completion of each step.\n",
              "// This uses a Promise to block the python side on completion of each step,\n",
              "// then passes the result of the previous step as the input to the next step.\n",
              "function _uploadFilesContinue(outputId) {\n",
              "  const outputElement = document.getElementById(outputId);\n",
              "  const steps = outputElement.steps;\n",
              "\n",
              "  const next = steps.next(outputElement.lastPromiseValue);\n",
              "  return Promise.resolve(next.value.promise).then((value) => {\n",
              "    // Cache the last promise value to make it available to the next\n",
              "    // step of the generator.\n",
              "    outputElement.lastPromiseValue = value;\n",
              "    return next.value.response;\n",
              "  });\n",
              "}\n",
              "\n",
              "/**\n",
              " * Generator function which is called between each async step of the upload\n",
              " * process.\n",
              " * @param {string} inputId Element ID of the input file picker element.\n",
              " * @param {string} outputId Element ID of the output display.\n",
              " * @return {!Iterable<!Object>} Iterable of next steps.\n",
              " */\n",
              "function* uploadFilesStep(inputId, outputId) {\n",
              "  const inputElement = document.getElementById(inputId);\n",
              "  inputElement.disabled = false;\n",
              "\n",
              "  const outputElement = document.getElementById(outputId);\n",
              "  outputElement.innerHTML = '';\n",
              "\n",
              "  const pickedPromise = new Promise((resolve) => {\n",
              "    inputElement.addEventListener('change', (e) => {\n",
              "      resolve(e.target.files);\n",
              "    });\n",
              "  });\n",
              "\n",
              "  const cancel = document.createElement('button');\n",
              "  inputElement.parentElement.appendChild(cancel);\n",
              "  cancel.textContent = 'Cancel upload';\n",
              "  const cancelPromise = new Promise((resolve) => {\n",
              "    cancel.onclick = () => {\n",
              "      resolve(null);\n",
              "    };\n",
              "  });\n",
              "\n",
              "  // Wait for the user to pick the files.\n",
              "  const files = yield {\n",
              "    promise: Promise.race([pickedPromise, cancelPromise]),\n",
              "    response: {\n",
              "      action: 'starting',\n",
              "    }\n",
              "  };\n",
              "\n",
              "  cancel.remove();\n",
              "\n",
              "  // Disable the input element since further picks are not allowed.\n",
              "  inputElement.disabled = true;\n",
              "\n",
              "  if (!files) {\n",
              "    return {\n",
              "      response: {\n",
              "        action: 'complete',\n",
              "      }\n",
              "    };\n",
              "  }\n",
              "\n",
              "  for (const file of files) {\n",
              "    const li = document.createElement('li');\n",
              "    li.append(span(file.name, {fontWeight: 'bold'}));\n",
              "    li.append(span(\n",
              "        `(${file.type || 'n/a'}) - ${file.size} bytes, ` +\n",
              "        `last modified: ${\n",
              "            file.lastModifiedDate ? file.lastModifiedDate.toLocaleDateString() :\n",
              "                                    'n/a'} - `));\n",
              "    const percent = span('0% done');\n",
              "    li.appendChild(percent);\n",
              "\n",
              "    outputElement.appendChild(li);\n",
              "\n",
              "    const fileDataPromise = new Promise((resolve) => {\n",
              "      const reader = new FileReader();\n",
              "      reader.onload = (e) => {\n",
              "        resolve(e.target.result);\n",
              "      };\n",
              "      reader.readAsArrayBuffer(file);\n",
              "    });\n",
              "    // Wait for the data to be ready.\n",
              "    let fileData = yield {\n",
              "      promise: fileDataPromise,\n",
              "      response: {\n",
              "        action: 'continue',\n",
              "      }\n",
              "    };\n",
              "\n",
              "    // Use a chunked sending to avoid message size limits. See b/62115660.\n",
              "    let position = 0;\n",
              "    do {\n",
              "      const length = Math.min(fileData.byteLength - position, MAX_PAYLOAD_SIZE);\n",
              "      const chunk = new Uint8Array(fileData, position, length);\n",
              "      position += length;\n",
              "\n",
              "      const base64 = btoa(String.fromCharCode.apply(null, chunk));\n",
              "      yield {\n",
              "        response: {\n",
              "          action: 'append',\n",
              "          file: file.name,\n",
              "          data: base64,\n",
              "        },\n",
              "      };\n",
              "\n",
              "      let percentDone = fileData.byteLength === 0 ?\n",
              "          100 :\n",
              "          Math.round((position / fileData.byteLength) * 100);\n",
              "      percent.textContent = `${percentDone}% done`;\n",
              "\n",
              "    } while (position < fileData.byteLength);\n",
              "  }\n",
              "\n",
              "  // All done.\n",
              "  yield {\n",
              "    response: {\n",
              "      action: 'complete',\n",
              "    }\n",
              "  };\n",
              "}\n",
              "\n",
              "scope.google = scope.google || {};\n",
              "scope.google.colab = scope.google.colab || {};\n",
              "scope.google.colab._files = {\n",
              "  _uploadFiles,\n",
              "  _uploadFilesContinue,\n",
              "};\n",
              "})(self);\n",
              "</script> "
            ],
            "text/plain": [
              "<IPython.core.display.HTML object>"
            ]
          },
          "metadata": {},
          "output_type": "display_data"
        },
        {
          "name": "stdout",
          "output_type": "stream",
          "text": [
            "Saving mimivirus.fasta to mimivirus.fasta\n"
          ]
        }
      ],
      "source": [
        "from google.colab import files\n",
        "\n",
        "# Upload a FASTA file manually\n",
        "uploaded = files.upload()\n"
      ]
    },
    {
      "cell_type": "code",
      "execution_count": null,
      "metadata": {
        "colab": {
          "base_uri": "https://localhost:8080/"
        },
        "id": "JWClmSoOfuaN",
        "outputId": "835be3d0-e00c-432f-fdd1-b4b39d1c612f"
      },
      "outputs": [
        {
          "name": "stdout",
          "output_type": "stream",
          "text": [
            "Motif found at positions: [(14, 'TATAAA'), (2966, 'TATAAA'), (3648, 'TATAAA'), (10724, 'TATAAA'), (11035, 'TATATA'), (11335, 'TATAAA'), (11451, 'TATATA'), (13890, 'TATAAA'), (18637, 'TATATA'), (21063, 'TATATA'), (22959, 'TATATA'), (23455, 'TATATA'), (23480, 'TATATA'), (24017, 'TATAAA'), (24337, 'TATATA'), (25961, 'TATATA'), (26188, 'TATAAA'), (26238, 'TATATA'), (27733, 'TATAAA'), (28224, 'TATAAA'), (28413, 'TATAAA'), (28733, 'TATATA'), (29066, 'TATATA'), (29082, 'TATATA'), (30099, 'TATATA'), (30438, 'TATAAA'), (30737, 'TATAAA'), (31958, 'TATAAA'), (31964, 'TATATA'), (32601, 'TATATA'), (32814, 'TATATA'), (33287, 'TATATA'), (33357, 'TATAAA'), (33405, 'TATATA'), (34616, 'TATATA'), (34842, 'TATATA'), (34882, 'TATAAA'), (35173, 'TATATA'), (36195, 'TATATA'), (37791, 'TATAAA'), (39061, 'TATAAA'), (39397, 'TATATA'), (39547, 'TATATA'), (40173, 'TATAAA'), (42205, 'TATATA'), (42279, 'TATAAA'), (42600, 'TATAAA'), (42690, 'TATAAA'), (42904, 'TATAAA'), (43489, 'TATATA'), (43808, 'TATAAA'), (43841, 'TATATA'), (44784, 'TATATA'), (45076, 'TATAAA'), (45151, 'TATATA'), (45605, 'TATAAA'), (45720, 'TATAAA'), (45955, 'TATATA'), (46450, 'TATATA'), (48204, 'TATAAA'), (48223, 'TATAAA'), (48540, 'TATAAA'), (49072, 'TATAAA'), (49183, 'TATATA'), (49280, 'TATAAA'), (50108, 'TATAAA'), (51165, 'TATATA'), (51222, 'TATAAA'), (52147, 'TATAAA'), (53061, 'TATAAA'), (53782, 'TATATA'), (53816, 'TATAAA'), (53912, 'TATATA'), (53930, 'TATATA'), (54732, 'TATATA'), (55461, 'TATAAA'), (56367, 'TATAAA'), (57003, 'TATAAA'), (58114, 'TATATA'), (58426, 'TATAAA'), (58918, 'TATAAA'), (59508, 'TATAAA'), (59566, 'TATAAA'), (59650, 'TATATA'), (59660, 'TATATA'), (59950, 'TATATA'), (61691, 'TATATA'), (62558, 'TATATA'), (63562, 'TATAAA'), (63863, 'TATATA'), (64360, 'TATAAA'), (64665, 'TATAAA'), (64783, 'TATAAA'), (64926, 'TATAAA'), (65516, 'TATAAA'), (65548, 'TATAAA'), (65902, 'TATAAA'), (65942, 'TATAAA'), (66187, 'TATATA'), (66198, 'TATATA'), (66280, 'TATAAA'), (67117, 'TATAAA'), (67693, 'TATATA'), (67753, 'TATATA'), (68079, 'TATATA'), (68113, 'TATATA'), (68164, 'TATAAA'), (68380, 'TATAAA'), (68525, 'TATAAA'), (69041, 'TATATA'), (69170, 'TATAAA'), (69316, 'TATATA'), (69543, 'TATAAA'), (69779, 'TATATA'), (70803, 'TATAAA'), (70870, 'TATATA'), (71654, 'TATATA'), (73440, 'TATAAA'), (74123, 'TATAAA'), (74650, 'TATAAA'), (75615, 'TATATA'), (77057, 'TATAAA'), (77117, 'TATAAA'), (77640, 'TATAAA'), (78226, 'TATAAA'), (78999, 'TATAAA'), (84566, 'TATAAA'), (86516, 'TATAAA'), (88986, 'TATATA'), (89368, 'TATAAA'), (90555, 'TATATA'), (90589, 'TATATA'), (91418, 'TATATA'), (92373, 'TATATA'), (92399, 'TATATA'), (92588, 'TATAAA'), (93509, 'TATAAA'), (94187, 'TATAAA'), (94238, 'TATAAA'), (94605, 'TATATA'), (94820, 'TATAAA'), (96194, 'TATATA'), (97836, 'TATATA'), (99568, 'TATATA'), (99770, 'TATAAA'), (100218, 'TATAAA'), (100240, 'TATAAA'), (100407, 'TATAAA'), (102937, 'TATAAA'), (103369, 'TATAAA'), (103558, 'TATATA'), (103564, 'TATATA'), (103615, 'TATAAA'), (103674, 'TATATA'), (103681, 'TATAAA'), (103748, 'TATATA'), (104959, 'TATAAA'), (104995, 'TATAAA'), (105145, 'TATAAA'), (105423, 'TATAAA'), (105835, 'TATAAA'), (106107, 'TATATA'), (106378, 'TATATA'), (107032, 'TATAAA'), (108185, 'TATAAA'), (109724, 'TATAAA'), (110998, 'TATAAA'), (111079, 'TATAAA'), (113212, 'TATAAA'), (113471, 'TATATA'), (116317, 'TATATA'), (116412, 'TATAAA'), (116955, 'TATAAA'), (120718, 'TATAAA'), (122455, 'TATATA'), (123892, 'TATATA'), (124345, 'TATAAA'), (124644, 'TATAAA'), (125067, 'TATAAA'), (125161, 'TATATA'), (126091, 'TATAAA'), (126404, 'TATAAA'), (127537, 'TATATA'), (130193, 'TATATA'), (130268, 'TATATA'), (132568, 'TATAAA'), (132583, 'TATATA'), (132831, 'TATAAA'), (133206, 'TATATA'), (133310, 'TATATA'), (134063, 'TATATA'), (134336, 'TATATA'), (135228, 'TATATA'), (137024, 'TATAAA'), (137153, 'TATAAA'), (137888, 'TATAAA'), (138698, 'TATATA'), (138902, 'TATATA'), (139085, 'TATAAA'), (139530, 'TATAAA'), (139929, 'TATAAA'), (141434, 'TATAAA'), (142543, 'TATAAA'), (143539, 'TATAAA'), (143847, 'TATAAA'), (144037, 'TATATA'), (145058, 'TATAAA'), (145084, 'TATAAA'), (145277, 'TATAAA'), (145589, 'TATAAA'), (146161, 'TATATA'), (146446, 'TATATA'), (147015, 'TATAAA'), (147150, 'TATAAA'), (147255, 'TATAAA'), (147352, 'TATATA'), (147933, 'TATATA'), (148002, 'TATAAA'), (148141, 'TATAAA'), (148387, 'TATAAA'), (148599, 'TATAAA'), (148713, 'TATATA'), (148768, 'TATAAA'), (149350, 'TATAAA'), (150580, 'TATATA'), (150587, 'TATAAA'), (150805, 'TATAAA'), (150898, 'TATATA'), (151002, 'TATAAA'), (152238, 'TATAAA'), (152829, 'TATATA'), (154149, 'TATAAA'), (154893, 'TATAAA'), (155040, 'TATATA'), (155679, 'TATAAA'), (156691, 'TATATA'), (157217, 'TATATA'), (157613, 'TATAAA'), (158407, 'TATATA'), (159257, 'TATAAA'), (161250, 'TATAAA'), (161656, 'TATAAA'), (162454, 'TATATA'), (162813, 'TATAAA'), (163272, 'TATAAA'), (163348, 'TATAAA'), (163558, 'TATAAA'), (164657, 'TATAAA'), (165473, 'TATAAA'), (166037, 'TATAAA'), (166754, 'TATAAA'), (168938, 'TATAAA'), (169188, 'TATAAA'), (169203, 'TATAAA'), (169256, 'TATAAA'), (169497, 'TATAAA'), (169648, 'TATAAA'), (170216, 'TATAAA'), (171297, 'TATAAA'), (171571, 'TATAAA'), (171660, 'TATAAA'), (173387, 'TATAAA'), (173436, 'TATAAA'), (173600, 'TATATA'), (173810, 'TATAAA'), (174792, 'TATATA'), (174845, 'TATATA'), (175814, 'TATATA'), (177443, 'TATAAA'), (177482, 'TATATA'), (177657, 'TATATA'), (181032, 'TATAAA'), (181283, 'TATATA'), (181606, 'TATATA'), (181741, 'TATATA'), (182328, 'TATATA'), (182803, 'TATATA'), (183242, 'TATATA'), (183277, 'TATATA'), (183318, 'TATAAA'), (183807, 'TATAAA'), (183854, 'TATATA'), (184042, 'TATATA'), (184672, 'TATAAA'), (185119, 'TATATA'), (185151, 'TATAAA'), (185304, 'TATAAA'), (185593, 'TATAAA'), (185815, 'TATAAA'), (186693, 'TATATA'), (187481, 'TATATA'), (187508, 'TATATA'), (187540, 'TATATA'), (187592, 'TATATA'), (187690, 'TATATA'), (188102, 'TATAAA'), (188531, 'TATAAA'), (188684, 'TATAAA'), (188732, 'TATATA'), (189240, 'TATATA'), (189437, 'TATATA'), (190110, 'TATATA'), (190605, 'TATAAA'), (191049, 'TATAAA'), (191098, 'TATATA'), (191123, 'TATATA'), (191650, 'TATAAA'), (191918, 'TATATA'), (192329, 'TATATA'), (192429, 'TATAAA'), (192485, 'TATAAA'), (192797, 'TATAAA'), (192941, 'TATAAA'), (193786, 'TATAAA'), (194352, 'TATATA'), (195560, 'TATAAA'), (195658, 'TATATA'), (196020, 'TATAAA'), (196368, 'TATAAA'), (196387, 'TATAAA'), (197321, 'TATATA'), (197349, 'TATAAA'), (197882, 'TATATA'), (198616, 'TATAAA'), (199851, 'TATAAA'), (200250, 'TATATA'), (200324, 'TATATA'), (200368, 'TATAAA'), (200493, 'TATATA'), (200501, 'TATAAA'), (201046, 'TATAAA'), (201625, 'TATATA'), (202002, 'TATAAA'), (202359, 'TATAAA'), (202832, 'TATAAA'), (203230, 'TATAAA'), (203953, 'TATAAA'), (204921, 'TATAAA'), (205128, 'TATATA'), (205268, 'TATAAA'), (205420, 'TATAAA'), (205633, 'TATAAA'), (205649, 'TATAAA'), (205742, 'TATAAA'), (205994, 'TATAAA'), (206117, 'TATAAA'), (206185, 'TATATA'), (206563, 'TATATA'), (207867, 'TATAAA'), (207911, 'TATAAA'), (208147, 'TATATA'), (208484, 'TATATA'), (208512, 'TATATA'), (208830, 'TATATA'), (208975, 'TATATA'), (209607, 'TATATA'), (209934, 'TATAAA'), (210118, 'TATATA'), (210166, 'TATAAA'), (210184, 'TATATA'), (210673, 'TATAAA'), (211006, 'TATATA'), (211318, 'TATAAA'), (211385, 'TATAAA'), (211531, 'TATAAA'), (212357, 'TATAAA'), (212846, 'TATAAA'), (213296, 'TATATA'), (214183, 'TATAAA'), (214387, 'TATATA'), (215673, 'TATATA'), (216187, 'TATAAA'), (216361, 'TATATA'), (216902, 'TATATA'), (218495, 'TATATA'), (218857, 'TATAAA'), (218978, 'TATAAA'), (219283, 'TATAAA'), (219349, 'TATAAA'), (219361, 'TATAAA'), (219373, 'TATAAA'), (220464, 'TATATA'), (220679, 'TATAAA'), (221160, 'TATAAA'), (221300, 'TATAAA'), (222194, 'TATATA'), (222435, 'TATAAA'), (222957, 'TATAAA'), (223127, 'TATAAA'), (223309, 'TATAAA'), (224678, 'TATAAA'), (224777, 'TATAAA'), (225154, 'TATAAA'), (225619, 'TATAAA'), (226084, 'TATAAA'), (226759, 'TATATA'), (228762, 'TATATA'), (229222, 'TATAAA'), (230133, 'TATAAA'), (230292, 'TATATA'), (230415, 'TATAAA'), (230682, 'TATATA'), (230727, 'TATAAA'), (231415, 'TATAAA'), (231885, 'TATAAA'), (232894, 'TATAAA'), (233564, 'TATATA'), (234102, 'TATAAA'), (235011, 'TATAAA'), (235297, 'TATAAA'), (235507, 'TATAAA'), (235855, 'TATAAA'), (236048, 'TATATA'), (236474, 'TATAAA'), (236518, 'TATATA'), (237362, 'TATAAA'), (237644, 'TATATA'), (238265, 'TATAAA'), (238536, 'TATATA'), (238919, 'TATAAA'), (239294, 'TATAAA'), (239333, 'TATAAA'), (239406, 'TATATA'), (240510, 'TATAAA'), (240524, 'TATATA'), (240532, 'TATAAA'), (240548, 'TATAAA'), (240844, 'TATATA'), (241084, 'TATATA'), (241485, 'TATAAA'), (241580, 'TATAAA'), (243027, 'TATAAA'), (243767, 'TATATA'), (243848, 'TATAAA'), (244197, 'TATAAA'), (244710, 'TATAAA'), (244975, 'TATAAA'), (245425, 'TATATA'), (245432, 'TATATA'), (245998, 'TATATA'), (246487, 'TATAAA'), (248178, 'TATATA'), (248189, 'TATATA'), (248505, 'TATAAA'), (249657, 'TATAAA'), (251225, 'TATAAA'), (251660, 'TATAAA'), (252582, 'TATAAA'), (252664, 'TATAAA'), (252904, 'TATAAA'), (253604, 'TATATA'), (254238, 'TATATA'), (254776, 'TATATA'), (256587, 'TATATA'), (256593, 'TATATA'), (256612, 'TATAAA'), (256632, 'TATATA'), (256783, 'TATAAA'), (258945, 'TATAAA'), (259209, 'TATATA'), (259436, 'TATATA'), (261882, 'TATAAA'), (262198, 'TATAAA'), (263555, 'TATAAA'), (263685, 'TATATA'), (263813, 'TATATA'), (264579, 'TATAAA'), (264633, 'TATATA'), (265001, 'TATATA'), (266518, 'TATATA'), (266525, 'TATATA'), (266824, 'TATAAA'), (266887, 'TATAAA'), (266939, 'TATATA'), (267103, 'TATAAA'), (267134, 'TATATA'), (267803, 'TATATA'), (267818, 'TATAAA'), (267848, 'TATATA'), (268028, 'TATATA'), (268078, 'TATATA'), (268145, 'TATATA'), (268358, 'TATATA'), (268437, 'TATATA'), (268461, 'TATAAA'), (269093, 'TATATA'), (269214, 'TATATA'), (269501, 'TATAAA'), (270007, 'TATAAA'), (271155, 'TATATA'), (271237, 'TATAAA'), (271359, 'TATAAA'), (271698, 'TATATA'), (272831, 'TATAAA'), (272982, 'TATAAA'), (273251, 'TATAAA'), (273563, 'TATAAA'), (273970, 'TATATA'), (274705, 'TATAAA'), (274730, 'TATATA'), (275232, 'TATATA'), (276007, 'TATAAA'), (276203, 'TATATA'), (276456, 'TATAAA'), (276759, 'TATATA'), (277230, 'TATAAA'), (278885, 'TATAAA'), (279335, 'TATAAA'), (279448, 'TATAAA'), (280295, 'TATAAA'), (280686, 'TATAAA'), (280815, 'TATATA'), (281375, 'TATATA'), (281912, 'TATATA'), (281929, 'TATATA'), (282103, 'TATATA'), (282118, 'TATAAA'), (282353, 'TATATA'), (282387, 'TATAAA'), (283274, 'TATAAA'), (283692, 'TATAAA'), (285378, 'TATAAA'), (285410, 'TATAAA'), (286658, 'TATAAA'), (287707, 'TATAAA'), (287757, 'TATATA'), (288326, 'TATAAA'), (288647, 'TATATA'), (289979, 'TATAAA'), (293397, 'TATAAA'), (293614, 'TATAAA'), (295018, 'TATATA'), (296222, 'TATAAA'), (297860, 'TATATA'), (297974, 'TATAAA'), (298409, 'TATAAA'), (299928, 'TATATA'), (299981, 'TATAAA'), (300336, 'TATAAA'), (300750, 'TATAAA'), (301484, 'TATAAA'), (301780, 'TATAAA'), (303045, 'TATATA'), (303109, 'TATAAA'), (303279, 'TATAAA'), (304520, 'TATATA'), (304745, 'TATAAA'), (306669, 'TATATA'), (306743, 'TATATA'), (306826, 'TATAAA'), (307753, 'TATAAA'), (308838, 'TATAAA'), (309504, 'TATAAA'), (313234, 'TATATA'), (314078, 'TATAAA'), (316792, 'TATATA'), (317697, 'TATAAA'), (320099, 'TATATA'), (322036, 'TATAAA'), (322550, 'TATATA'), (322864, 'TATAAA'), (323263, 'TATAAA'), (323365, 'TATATA'), (323464, 'TATAAA'), (324215, 'TATATA'), (324238, 'TATATA'), (325184, 'TATAAA'), (325851, 'TATAAA'), (327420, 'TATAAA'), (327843, 'TATAAA'), (327865, 'TATATA'), (327888, 'TATAAA'), (328794, 'TATAAA'), (328816, 'TATATA'), (329088, 'TATAAA'), (329268, 'TATAAA'), (329921, 'TATAAA'), (330530, 'TATAAA'), (330780, 'TATAAA'), (332834, 'TATAAA'), (333094, 'TATATA'), (333174, 'TATATA'), (336842, 'TATATA'), (336969, 'TATAAA'), (337398, 'TATATA'), (337918, 'TATATA'), (340573, 'TATATA'), (341650, 'TATATA'), (341749, 'TATAAA'), (342075, 'TATATA'), (342618, 'TATAAA'), (342822, 'TATAAA'), (343110, 'TATAAA'), (343599, 'TATAAA'), (343988, 'TATATA'), (344043, 'TATAAA'), (344976, 'TATAAA'), (346605, 'TATAAA'), (346836, 'TATAAA'), (346902, 'TATATA'), (348419, 'TATAAA'), (349524, 'TATATA'), (349607, 'TATAAA'), (350787, 'TATATA'), (351902, 'TATAAA'), (352934, 'TATAAA'), (354613, 'TATATA'), (355087, 'TATAAA'), (355775, 'TATAAA'), (355947, 'TATAAA'), (356129, 'TATATA'), (357597, 'TATAAA'), (358039, 'TATAAA'), (358954, 'TATAAA'), (360208, 'TATAAA'), (360332, 'TATATA'), (361096, 'TATATA'), (361212, 'TATAAA'), (362718, 'TATATA'), (363061, 'TATAAA'), (363258, 'TATAAA'), (363285, 'TATAAA'), (364370, 'TATAAA'), (365338, 'TATAAA'), (365734, 'TATAAA'), (365755, 'TATAAA'), (366416, 'TATAAA'), (366849, 'TATAAA'), (366904, 'TATAAA'), (367801, 'TATATA'), (367812, 'TATATA'), (367847, 'TATATA'), (368623, 'TATATA'), (369520, 'TATAAA'), (370183, 'TATATA'), (371315, 'TATATA'), (371328, 'TATAAA'), (371335, 'TATAAA'), (372120, 'TATAAA'), (373098, 'TATAAA'), (373865, 'TATAAA'), (374570, 'TATATA'), (376554, 'TATAAA'), (376866, 'TATAAA'), (380064, 'TATATA'), (380136, 'TATATA'), (380253, 'TATAAA'), (383329, 'TATAAA'), (384493, 'TATAAA'), (386404, 'TATAAA'), (387299, 'TATATA'), (387925, 'TATAAA'), (388240, 'TATAAA'), (390059, 'TATATA'), (391111, 'TATAAA'), (391124, 'TATATA'), (391180, 'TATATA'), (391729, 'TATAAA'), (393603, 'TATAAA'), (393609, 'TATATA'), (393635, 'TATATA'), (394552, 'TATAAA'), (394580, 'TATAAA'), (395421, 'TATAAA'), (395631, 'TATAAA'), (395694, 'TATATA'), (395729, 'TATATA'), (396168, 'TATAAA'), (396437, 'TATAAA'), (396750, 'TATAAA'), (397017, 'TATAAA'), (397187, 'TATAAA'), (397951, 'TATAAA'), (398433, 'TATAAA'), (398851, 'TATAAA'), (399344, 'TATATA'), (399350, 'TATATA'), (399934, 'TATAAA'), (400089, 'TATATA'), (400285, 'TATAAA'), (400743, 'TATAAA'), (400975, 'TATATA'), (402025, 'TATAAA'), (402763, 'TATATA'), (404098, 'TATATA'), (404567, 'TATATA'), (404797, 'TATATA'), (404811, 'TATAAA'), (405072, 'TATATA'), (405335, 'TATATA'), (405573, 'TATAAA'), (406413, 'TATATA'), (408511, 'TATAAA'), (409120, 'TATAAA'), (409325, 'TATAAA'), (409535, 'TATATA'), (412140, 'TATATA'), (415213, 'TATATA'), (416264, 'TATATA'), (417380, 'TATATA'), (417930, 'TATATA'), (418269, 'TATAAA'), (418312, 'TATATA'), (418700, 'TATATA'), (419191, 'TATAAA'), (419456, 'TATATA'), (420574, 'TATATA'), (422089, 'TATAAA'), (422164, 'TATAAA'), (422384, 'TATATA'), (423707, 'TATATA'), (423854, 'TATAAA'), (425808, 'TATATA'), (425842, 'TATAAA'), (425934, 'TATAAA'), (426195, 'TATAAA'), (426347, 'TATAAA'), (426474, 'TATAAA'), (426999, 'TATAAA'), (428074, 'TATATA'), (428622, 'TATAAA'), (428667, 'TATAAA'), (429231, 'TATAAA'), (431052, 'TATAAA'), (432213, 'TATAAA'), (432425, 'TATATA'), (432726, 'TATAAA'), (432898, 'TATATA'), (432972, 'TATAAA'), (433538, 'TATAAA'), (433814, 'TATAAA'), (433967, 'TATAAA'), (433986, 'TATAAA'), (434137, 'TATATA'), (434530, 'TATAAA'), (434678, 'TATATA'), (435096, 'TATATA'), (435807, 'TATATA'), (435890, 'TATAAA'), (435974, 'TATATA'), (437491, 'TATATA'), (438587, 'TATAAA'), (438614, 'TATAAA'), (439275, 'TATAAA'), (439344, 'TATATA'), (440656, 'TATAAA'), (441179, 'TATAAA'), (441230, 'TATAAA'), (441326, 'TATAAA'), (441488, 'TATAAA'), (441801, 'TATATA'), (441903, 'TATATA'), (442491, 'TATAAA'), (442734, 'TATAAA'), (443631, 'TATAAA'), (444531, 'TATAAA'), (444624, 'TATAAA'), (445366, 'TATATA'), (445522, 'TATATA'), (445849, 'TATAAA'), (446318, 'TATAAA'), (446568, 'TATATA'), (446922, 'TATATA'), (446988, 'TATAAA'), (447027, 'TATATA'), (447040, 'TATATA'), (447385, 'TATATA'), (447399, 'TATAAA'), (447533, 'TATAAA'), (448292, 'TATATA'), (448733, 'TATAAA'), (449235, 'TATATA'), (449382, 'TATAAA'), (449689, 'TATAAA'), (450260, 'TATAAA'), (451190, 'TATAAA'), (451697, 'TATAAA'), (451957, 'TATATA'), (452150, 'TATAAA'), (452294, 'TATAAA'), (453103, 'TATATA'), (453115, 'TATATA'), (453389, 'TATAAA'), (453529, 'TATAAA'), (453658, 'TATATA'), (453670, 'TATAAA'), (453708, 'TATAAA'), (453729, 'TATATA'), (455613, 'TATATA'), (456908, 'TATAAA'), (457425, 'TATAAA'), (458010, 'TATAAA'), (458221, 'TATATA'), (458498, 'TATAAA'), (458640, 'TATAAA'), (459009, 'TATAAA'), (459129, 'TATATA'), (459732, 'TATATA'), (459855, 'TATAAA'), (460280, 'TATATA'), (460617, 'TATAAA'), (461024, 'TATAAA'), (461275, 'TATATA'), (461290, 'TATAAA'), (461389, 'TATATA'), (462402, 'TATAAA'), (464304, 'TATATA'), (464314, 'TATATA'), (464420, 'TATAAA'), (464498, 'TATAAA'), (464831, 'TATAAA'), (465007, 'TATATA'), (465334, 'TATATA'), (465676, 'TATAAA'), (466213, 'TATATA'), (466787, 'TATAAA'), (466797, 'TATAAA'), (467138, 'TATAAA'), (467675, 'TATAAA'), (468587, 'TATAAA'), (469102, 'TATATA'), (469809, 'TATAAA'), (470045, 'TATATA'), (470471, 'TATAAA'), (471380, 'TATAAA'), (471595, 'TATATA'), (472292, 'TATAAA'), (475987, 'TATAAA'), (476635, 'TATAAA'), (476664, 'TATATA'), (476904, 'TATATA'), (477887, 'TATAAA'), (479524, 'TATATA'), (480061, 'TATATA'), (481126, 'TATATA'), (481575, 'TATATA'), (481827, 'TATATA'), (481956, 'TATAAA'), (483145, 'TATATA'), (483158, 'TATATA'), (484516, 'TATATA'), (484576, 'TATAAA'), (486937, 'TATATA'), (487660, 'TATAAA'), (487773, 'TATAAA'), (487848, 'TATATA'), (488632, 'TATAAA'), (489044, 'TATATA'), (490027, 'TATAAA'), (491067, 'TATAAA'), (491494, 'TATATA'), (492249, 'TATAAA'), (492365, 'TATAAA'), (492892, 'TATAAA'), (492977, 'TATAAA'), (493911, 'TATATA'), (493931, 'TATATA'), (493944, 'TATATA'), (493978, 'TATATA'), (494344, 'TATATA'), (494355, 'TATATA'), (494398, 'TATATA'), (495977, 'TATAAA'), (496067, 'TATAAA'), (496803, 'TATATA'), (497872, 'TATATA'), (497983, 'TATAAA'), (498569, 'TATATA'), (498692, 'TATATA'), (498753, 'TATAAA'), (499684, 'TATAAA'), (499842, 'TATATA'), (500050, 'TATATA'), (500261, 'TATATA'), (500419, 'TATAAA'), (500947, 'TATATA'), (501391, 'TATAAA'), (501671, 'TATAAA'), (502586, 'TATAAA'), (503067, 'TATATA'), (503669, 'TATATA'), (503849, 'TATATA'), (503966, 'TATAAA'), (504375, 'TATATA'), (505550, 'TATAAA'), (506111, 'TATAAA'), (506461, 'TATATA'), (506499, 'TATATA'), (506527, 'TATAAA'), (507139, 'TATAAA'), (507168, 'TATATA'), (507190, 'TATATA'), (507841, 'TATATA'), (507935, 'TATATA'), (508158, 'TATATA'), (508170, 'TATAAA'), (508186, 'TATATA'), (509054, 'TATAAA'), (509524, 'TATAAA'), (509578, 'TATAAA'), (510020, 'TATATA'), (510130, 'TATAAA'), (510309, 'TATAAA'), (510319, 'TATATA'), (510884, 'TATAAA'), (511028, 'TATAAA'), (511991, 'TATAAA'), (512111, 'TATAAA'), (512203, 'TATATA'), (512312, 'TATAAA'), (513201, 'TATATA'), (513831, 'TATATA'), (514107, 'TATAAA'), (514292, 'TATAAA'), (514620, 'TATATA'), (514755, 'TATATA'), (517424, 'TATATA'), (518788, 'TATAAA'), (519500, 'TATAAA'), (520002, 'TATAAA'), (520134, 'TATAAA'), (520518, 'TATAAA'), (520570, 'TATATA'), (520929, 'TATAAA'), (521412, 'TATATA'), (521423, 'TATAAA'), (522229, 'TATAAA'), (522903, 'TATATA'), (522916, 'TATATA'), (522955, 'TATATA'), (523008, 'TATATA'), (523422, 'TATAAA'), (523541, 'TATAAA'), (524452, 'TATATA'), (524530, 'TATATA'), (524879, 'TATAAA'), (525159, 'TATAAA'), (525186, 'TATAAA'), (525851, 'TATATA'), (525939, 'TATATA'), (526502, 'TATAAA'), (529102, 'TATAAA'), (530507, 'TATATA'), (532308, 'TATAAA'), (532789, 'TATAAA'), (532824, 'TATAAA'), (532947, 'TATATA'), (533086, 'TATATA'), (533262, 'TATAAA'), (533269, 'TATAAA'), (533282, 'TATATA'), (535114, 'TATAAA'), (535154, 'TATAAA'), (535612, 'TATAAA'), (536044, 'TATAAA'), (537451, 'TATAAA'), (537517, 'TATATA'), (537526, 'TATATA'), (537653, 'TATATA'), (537708, 'TATAAA'), (537762, 'TATAAA'), (539137, 'TATAAA'), (539952, 'TATATA'), (539958, 'TATATA'), (540079, 'TATAAA'), (543384, 'TATAAA'), (543721, 'TATATA'), (544467, 'TATAAA'), (545334, 'TATAAA'), (545511, 'TATATA'), (545624, 'TATAAA'), (545748, 'TATATA'), (546213, 'TATATA'), (547364, 'TATAAA'), (548702, 'TATAAA'), (548848, 'TATAAA'), (549040, 'TATATA'), (549435, 'TATAAA'), (549782, 'TATAAA'), (550191, 'TATAAA'), (550803, 'TATAAA'), (550917, 'TATAAA'), (551883, 'TATATA'), (552051, 'TATATA'), (552174, 'TATAAA'), (552483, 'TATAAA'), (553320, 'TATAAA'), (553759, 'TATATA'), (553980, 'TATATA'), (554004, 'TATATA'), (554910, 'TATAAA'), (555260, 'TATATA'), (555549, 'TATATA'), (556105, 'TATAAA'), (556125, 'TATAAA'), (556709, 'TATAAA'), (557510, 'TATAAA'), (557757, 'TATATA'), (557849, 'TATAAA'), (558267, 'TATATA'), (558782, 'TATATA'), (559221, 'TATAAA'), (559241, 'TATATA'), (559897, 'TATAAA'), (559937, 'TATAAA'), (560018, 'TATATA'), (560367, 'TATAAA'), (560392, 'TATATA'), (561875, 'TATAAA'), (562250, 'TATAAA'), (563667, 'TATATA'), (564078, 'TATAAA'), (564345, 'TATATA'), (564385, 'TATATA'), (564482, 'TATATA'), (565415, 'TATATA'), (565685, 'TATAAA'), (565846, 'TATAAA'), (566253, 'TATATA'), (566760, 'TATAAA'), (566980, 'TATAAA'), (567079, 'TATAAA'), (567127, 'TATATA'), (567508, 'TATAAA'), (570697, 'TATAAA'), (571051, 'TATAAA'), (571192, 'TATATA'), (571974, 'TATAAA'), (572072, 'TATAAA'), (572764, 'TATAAA'), (572780, 'TATAAA'), (572798, 'TATAAA'), (573570, 'TATAAA'), (573606, 'TATAAA'), (574509, 'TATAAA'), (574533, 'TATATA'), (574843, 'TATAAA'), (576738, 'TATATA'), (576796, 'TATAAA'), (577300, 'TATATA'), (577344, 'TATAAA'), (577455, 'TATATA'), (578147, 'TATATA'), (578554, 'TATAAA'), (579034, 'TATATA'), (579101, 'TATAAA'), (579141, 'TATAAA'), (580382, 'TATATA'), (580470, 'TATAAA'), (581330, 'TATATA'), (581385, 'TATAAA'), (581901, 'TATATA'), (582472, 'TATAAA'), (582498, 'TATAAA'), (582856, 'TATAAA'), (583527, 'TATAAA'), (584186, 'TATAAA'), (584257, 'TATAAA'), (584471, 'TATAAA'), (584681, 'TATAAA'), (585422, 'TATATA'), (585516, 'TATAAA'), (585688, 'TATATA'), (585982, 'TATAAA'), (586944, 'TATATA'), (587360, 'TATATA'), (587746, 'TATAAA'), (588178, 'TATAAA'), (588870, 'TATAAA'), (590005, 'TATAAA'), (590392, 'TATAAA'), (592871, 'TATATA'), (593344, 'TATAAA'), (594437, 'TATATA'), (596221, 'TATAAA'), (596269, 'TATAAA'), (596507, 'TATAAA'), (597527, 'TATAAA'), (597677, 'TATAAA'), (599567, 'TATATA'), (599666, 'TATATA'), (599880, 'TATATA'), (599887, 'TATATA'), (599915, 'TATATA'), (600017, 'TATAAA'), (601236, 'TATAAA'), (602308, 'TATATA'), (602631, 'TATAAA'), (603514, 'TATATA'), (604321, 'TATAAA'), (604783, 'TATAAA'), (605537, 'TATAAA'), (605589, 'TATAAA'), (606268, 'TATATA'), (607125, 'TATAAA'), (609569, 'TATAAA'), (609679, 'TATATA'), (609685, 'TATATA'), (609769, 'TATAAA'), (609788, 'TATAAA'), (609837, 'TATAAA'), (610325, 'TATAAA'), (610536, 'TATAAA'), (611340, 'TATAAA'), (615955, 'TATAAA'), (616265, 'TATATA'), (616358, 'TATAAA'), (616985, 'TATAAA'), (617025, 'TATAAA'), (619330, 'TATATA'), (619818, 'TATAAA'), (620450, 'TATAAA'), (621271, 'TATAAA'), (621323, 'TATATA'), (621457, 'TATATA'), (621635, 'TATAAA'), (622118, 'TATAAA'), (622383, 'TATATA'), (622741, 'TATAAA'), (622750, 'TATATA'), (623289, 'TATAAA'), (623393, 'TATAAA'), (624753, 'TATAAA'), (625706, 'TATAAA'), (625790, 'TATATA'), (626033, 'TATATA'), (626181, 'TATAAA'), (626345, 'TATAAA'), (626655, 'TATATA'), (627328, 'TATAAA'), (627779, 'TATATA'), (627853, 'TATATA'), (627981, 'TATATA'), (628268, 'TATAAA'), (628511, 'TATAAA'), (628571, 'TATAAA'), (628775, 'TATAAA'), (629142, 'TATATA'), (629331, 'TATAAA'), (630258, 'TATAAA'), (630333, 'TATATA'), (630979, 'TATAAA'), (631410, 'TATAAA'), (633376, 'TATAAA'), (633511, 'TATAAA'), (633573, 'TATAAA'), (634615, 'TATAAA'), (635149, 'TATATA'), (635179, 'TATAAA'), (635542, 'TATATA'), (636366, 'TATATA'), (636482, 'TATAAA'), (638765, 'TATAAA'), (638960, 'TATAAA'), (639149, 'TATAAA'), (639308, 'TATATA'), (639383, 'TATAAA'), (640329, 'TATAAA'), (643872, 'TATATA'), (645105, 'TATATA'), (645344, 'TATAAA'), (645615, 'TATATA'), (645741, 'TATAAA'), (645992, 'TATATA'), (647092, 'TATAAA'), (647794, 'TATAAA'), (648655, 'TATAAA'), (649635, 'TATATA'), (650337, 'TATAAA'), (650778, 'TATAAA'), (650932, 'TATAAA'), (652410, 'TATAAA'), (654803, 'TATATA'), (656140, 'TATAAA'), (656695, 'TATAAA'), (657005, 'TATAAA'), (657189, 'TATAAA'), (657499, 'TATATA'), (657648, 'TATATA'), (658464, 'TATAAA'), (659147, 'TATATA'), (659291, 'TATATA'), (659402, 'TATATA'), (660575, 'TATATA'), (660906, 'TATAAA'), (660987, 'TATAAA'), (661257, 'TATATA'), (661492, 'TATAAA'), (663274, 'TATATA'), (663448, 'TATATA'), (664242, 'TATATA'), (664305, 'TATAAA'), (665200, 'TATAAA'), (665515, 'TATATA'), (665585, 'TATAAA'), (665728, 'TATAAA'), (666488, 'TATATA'), (667074, 'TATATA'), (667696, 'TATAAA'), (668385, 'TATAAA'), (668618, 'TATATA'), (669261, 'TATATA'), (669800, 'TATATA'), (670875, 'TATATA'), (671129, 'TATAAA'), (671715, 'TATAAA'), (671919, 'TATAAA'), (672077, 'TATAAA'), (672667, 'TATATA'), (673305, 'TATATA'), (673392, 'TATATA'), (674106, 'TATATA'), (675258, 'TATATA'), (675467, 'TATATA'), (676128, 'TATAAA'), (676227, 'TATAAA'), (677189, 'TATATA'), (677915, 'TATATA'), (678088, 'TATATA'), (678096, 'TATATA'), (678352, 'TATATA'), (679310, 'TATATA'), (679336, 'TATAAA'), (679405, 'TATAAA'), (679810, 'TATAAA'), (681216, 'TATAAA'), (681436, 'TATATA'), (681511, 'TATAAA'), (682307, 'TATAAA'), (683686, 'TATAAA'), (683938, 'TATAAA'), (685378, 'TATAAA'), (685867, 'TATAAA'), (685954, 'TATAAA'), (686053, 'TATAAA'), (686855, 'TATAAA'), (687229, 'TATAAA'), (687470, 'TATATA'), (687492, 'TATAAA'), (689007, 'TATATA'), (689768, 'TATAAA'), (689997, 'TATAAA'), (691929, 'TATATA'), (692038, 'TATAAA'), (692144, 'TATATA'), (692361, 'TATATA'), (692520, 'TATAAA'), (692669, 'TATAAA'), (692826, 'TATATA'), (693856, 'TATAAA'), (694477, 'TATAAA'), (694516, 'TATAAA'), (694842, 'TATAAA'), (695236, 'TATAAA'), (696085, 'TATAAA'), (696622, 'TATATA'), (697310, 'TATATA'), (697343, 'TATATA'), (697955, 'TATAAA'), (698268, 'TATAAA'), (699650, 'TATATA'), (699923, 'TATATA'), (701187, 'TATATA'), (701948, 'TATATA'), (702046, 'TATAAA'), (702052, 'TATAAA'), (702177, 'TATAAA'), (702658, 'TATAAA'), (703219, 'TATATA'), (703513, 'TATAAA'), (703699, 'TATAAA'), (703711, 'TATAAA'), (703910, 'TATATA'), (703931, 'TATATA'), (705047, 'TATAAA'), (705346, 'TATAAA'), (705367, 'TATAAA'), (705535, 'TATATA'), (706016, 'TATAAA'), (706042, 'TATAAA'), (706809, 'TATATA'), (706985, 'TATAAA'), (707264, 'TATATA'), (707866, 'TATATA'), (708185, 'TATAAA'), (708788, 'TATATA'), (709937, 'TATAAA'), (710004, 'TATATA'), (710615, 'TATAAA'), (711907, 'TATATA'), (712351, 'TATATA'), (713583, 'TATAAA'), (714455, 'TATATA'), (714661, 'TATATA'), (715481, 'TATATA'), (715607, 'TATAAA'), (715746, 'TATATA'), (716522, 'TATAAA'), (718192, 'TATATA'), (718701, 'TATAAA'), (719084, 'TATAAA'), (720211, 'TATAAA'), (721229, 'TATATA'), (721310, 'TATATA'), (721630, 'TATAAA'), (722949, 'TATATA'), (723173, 'TATATA'), (723236, 'TATAAA'), (723476, 'TATATA'), (724972, 'TATAAA'), (725040, 'TATAAA'), (725783, 'TATAAA'), (725960, 'TATAAA'), (726147, 'TATAAA'), (726206, 'TATAAA'), (726683, 'TATATA'), (726802, 'TATATA'), (727080, 'TATAAA'), (727463, 'TATAAA'), (728304, 'TATAAA'), (728390, 'TATAAA'), (728908, 'TATAAA'), (729588, 'TATATA'), (729601, 'TATAAA'), (729615, 'TATATA'), (730071, 'TATAAA'), (730257, 'TATAAA'), (731214, 'TATATA'), (731502, 'TATATA'), (731616, 'TATATA'), (731655, 'TATAAA'), (732096, 'TATATA'), (733435, 'TATATA'), (733723, 'TATAAA'), (734276, 'TATATA'), (734392, 'TATAAA'), (735710, 'TATAAA'), (736049, 'TATAAA'), (736715, 'TATAAA'), (738622, 'TATATA'), (740068, 'TATATA'), (740938, 'TATATA'), (741951, 'TATAAA'), (742803, 'TATATA'), (743022, 'TATAAA'), (743829, 'TATAAA'), (743894, 'TATAAA'), (744861, 'TATAAA'), (746000, 'TATAAA'), (746443, 'TATAAA'), (746828, 'TATATA'), (747144, 'TATATA'), (747339, 'TATAAA'), (747504, 'TATAAA'), (747594, 'TATAAA'), (747720, 'TATATA'), (747758, 'TATAAA'), (749015, 'TATAAA'), (749040, 'TATATA'), (749634, 'TATAAA'), (750929, 'TATATA'), (752008, 'TATATA'), (752558, 'TATAAA'), (753755, 'TATAAA'), (753826, 'TATAAA'), (754294, 'TATAAA'), (757099, 'TATAAA'), (757934, 'TATAAA'), (759695, 'TATAAA'), (761330, 'TATAAA'), (762037, 'TATATA'), (762403, 'TATAAA'), (762418, 'TATAAA'), (763425, 'TATAAA'), (764619, 'TATAAA'), (765843, 'TATAAA'), (766268, 'TATAAA'), (766769, 'TATAAA'), (766799, 'TATATA'), (766997, 'TATAAA'), (767216, 'TATAAA'), (767948, 'TATAAA'), (767954, 'TATATA'), (768562, 'TATAAA'), (768907, 'TATAAA'), (770088, 'TATATA'), (770111, 'TATAAA'), (770253, 'TATAAA'), (771188, 'TATATA'), (771279, 'TATAAA'), (771510, 'TATATA'), (773216, 'TATAAA'), (774834, 'TATATA'), (775058, 'TATATA'), (775963, 'TATAAA'), (776203, 'TATAAA'), (776317, 'TATAAA'), (777190, 'TATAAA'), (777415, 'TATATA'), (777740, 'TATATA'), (777920, 'TATAAA'), (778263, 'TATAAA'), (778649, 'TATAAA'), (779258, 'TATAAA'), (779417, 'TATAAA'), (779806, 'TATAAA'), (780187, 'TATAAA'), (780323, 'TATAAA'), (780457, 'TATAAA'), (781214, 'TATATA'), (781381, 'TATATA'), (781443, 'TATATA'), (781740, 'TATATA'), (781894, 'TATATA'), (781982, 'TATAAA'), (782755, 'TATATA'), (782867, 'TATAAA'), (783181, 'TATAAA'), (783820, 'TATAAA'), (783888, 'TATATA'), (784023, 'TATATA'), (784750, 'TATATA'), (784977, 'TATATA'), (786024, 'TATATA'), (786118, 'TATATA'), (786466, 'TATAAA'), (788935, 'TATAAA'), (789295, 'TATATA'), (789766, 'TATATA'), (790072, 'TATAAA'), (790636, 'TATAAA'), (790706, 'TATATA'), (792440, 'TATATA'), (792470, 'TATAAA'), (793216, 'TATAAA'), (793390, 'TATAAA'), (793423, 'TATAAA'), (794193, 'TATAAA'), (794699, 'TATAAA'), (794998, 'TATATA'), (795088, 'TATATA'), (796260, 'TATATA'), (796610, 'TATAAA'), (797510, 'TATATA'), (798190, 'TATATA'), (798733, 'TATATA'), (798828, 'TATAAA'), (798994, 'TATAAA'), (799158, 'TATATA'), (799942, 'TATAAA'), (802858, 'TATATA'), (803076, 'TATATA'), (803953, 'TATAAA'), (804372, 'TATAAA'), (804735, 'TATAAA'), (804914, 'TATATA'), (805525, 'TATAAA'), (806562, 'TATATA'), (806570, 'TATATA'), (806703, 'TATAAA'), (806862, 'TATAAA'), (806938, 'TATATA'), (807871, 'TATAAA'), (808049, 'TATAAA'), (808086, 'TATAAA'), (808870, 'TATAAA'), (809117, 'TATATA'), (809691, 'TATAAA'), (809900, 'TATATA'), (810029, 'TATATA'), (810349, 'TATAAA'), (811185, 'TATATA'), (811366, 'TATAAA'), (811411, 'TATAAA'), (813134, 'TATATA'), (815188, 'TATATA'), (815480, 'TATAAA'), (815605, 'TATAAA'), (815641, 'TATAAA'), (815770, 'TATAAA'), (815878, 'TATAAA'), (816183, 'TATAAA'), (816536, 'TATAAA'), (816659, 'TATAAA'), (817149, 'TATAAA'), (818028, 'TATATA'), (818907, 'TATAAA'), (821733, 'TATAAA'), (823266, 'TATATA'), (824216, 'TATATA'), (824223, 'TATAAA'), (824236, 'TATATA'), (824284, 'TATAAA'), (824384, 'TATATA'), (824797, 'TATATA'), (824816, 'TATAAA'), (825488, 'TATATA'), (825771, 'TATAAA'), (828899, 'TATATA'), (828961, 'TATAAA'), (828989, 'TATATA'), (830185, 'TATAAA'), (830835, 'TATAAA'), (832527, 'TATAAA'), (833412, 'TATATA'), (835099, 'TATAAA'), (837708, 'TATATA'), (837750, 'TATATA'), (838582, 'TATATA'), (838600, 'TATAAA'), (838883, 'TATATA'), (841055, 'TATAAA'), (841157, 'TATATA'), (841303, 'TATAAA'), (841342, 'TATATA'), (841557, 'TATATA'), (841573, 'TATATA'), (841881, 'TATATA'), (841919, 'TATAAA'), (842709, 'TATAAA'), (842801, 'TATATA'), (843509, 'TATAAA'), (845586, 'TATAAA'), (846080, 'TATATA'), (846086, 'TATATA'), (846741, 'TATAAA'), (846915, 'TATAAA'), (847682, 'TATATA'), (847821, 'TATAAA'), (848519, 'TATATA'), (849078, 'TATAAA'), (850286, 'TATATA'), (850434, 'TATAAA'), (850468, 'TATAAA'), (850517, 'TATATA'), (850526, 'TATAAA'), (851419, 'TATATA'), (852461, 'TATAAA'), (852511, 'TATAAA'), (853043, 'TATAAA'), (853195, 'TATATA'), (854117, 'TATAAA'), (854752, 'TATAAA'), (854816, 'TATAAA'), (854837, 'TATATA'), (855177, 'TATAAA'), (855785, 'TATATA'), (856492, 'TATAAA'), (857715, 'TATAAA'), (858328, 'TATAAA'), (858969, 'TATATA'), (859353, 'TATAAA'), (859371, 'TATAAA'), (859405, 'TATAAA'), (859568, 'TATAAA'), (859786, 'TATAAA'), (859839, 'TATAAA'), (859876, 'TATATA'), (861002, 'TATAAA'), (861189, 'TATAAA'), (862813, 'TATATA'), (862902, 'TATAAA'), (864417, 'TATAAA'), (864464, 'TATAAA'), (864533, 'TATAAA'), (864721, 'TATAAA'), (865987, 'TATAAA'), (866580, 'TATATA'), (867137, 'TATAAA'), (867398, 'TATAAA'), (867467, 'TATATA'), (867729, 'TATATA'), (868569, 'TATAAA'), (869322, 'TATAAA'), (870053, 'TATAAA'), (870252, 'TATATA'), (870757, 'TATAAA'), (870947, 'TATAAA'), (871478, 'TATAAA'), (871733, 'TATATA'), (872571, 'TATATA'), (872984, 'TATAAA'), (873387, 'TATAAA'), (873529, 'TATATA'), (873601, 'TATATA'), (873721, 'TATATA'), (873805, 'TATAAA'), (876992, 'TATATA'), (877892, 'TATATA'), (880678, 'TATAAA'), (880704, 'TATAAA'), (881026, 'TATAAA'), (881231, 'TATAAA'), (881260, 'TATAAA'), (881476, 'TATAAA'), (881897, 'TATAAA'), (882168, 'TATAAA'), (882291, 'TATAAA'), (883940, 'TATATA'), (884714, 'TATAAA'), (885855, 'TATAAA'), (885963, 'TATAAA'), (886340, 'TATATA'), (888400, 'TATAAA'), (888559, 'TATAAA'), (889039, 'TATATA'), (890458, 'TATATA'), (892560, 'TATAAA'), (893134, 'TATAAA'), (893629, 'TATATA'), (895757, 'TATAAA'), (898687, 'TATATA'), (899182, 'TATAAA'), (899499, 'TATAAA'), (900120, 'TATAAA'), (900635, 'TATATA'), (902247, 'TATAAA'), (903626, 'TATAAA'), (904425, 'TATAAA'), (905239, 'TATAAA'), (906019, 'TATAAA'), (906484, 'TATATA'), (907454, 'TATAAA'), (907945, 'TATATA'), (909325, 'TATAAA'), (909489, 'TATATA'), (909592, 'TATATA'), (909860, 'TATATA'), (910644, 'TATAAA'), (910975, 'TATAAA'), (911545, 'TATAAA'), (911567, 'TATAAA'), (912226, 'TATAAA'), (913197, 'TATAAA'), (913371, 'TATATA'), (914201, 'TATATA'), (914399, 'TATATA'), (914810, 'TATATA'), (914859, 'TATATA'), (915093, 'TATATA'), (915232, 'TATATA'), (915911, 'TATAAA'), (916648, 'TATAAA'), (917020, 'TATAAA'), (917506, 'TATAAA'), (917582, 'TATATA'), (918093, 'TATATA'), (918936, 'TATAAA'), (918952, 'TATAAA'), (922557, 'TATAAA'), (922999, 'TATAAA'), (923626, 'TATATA'), (925022, 'TATAAA'), (926258, 'TATAAA'), (926638, 'TATATA'), (926970, 'TATAAA'), (928222, 'TATATA'), (928367, 'TATAAA'), (928402, 'TATATA'), (928483, 'TATATA'), (928608, 'TATATA'), (928617, 'TATATA'), (929893, 'TATATA'), (930045, 'TATATA'), (930230, 'TATAAA'), (931438, 'TATAAA'), (931481, 'TATAAA'), (931493, 'TATAAA'), (931904, 'TATAAA'), (932282, 'TATAAA'), (932529, 'TATAAA'), (933049, 'TATAAA'), (933190, 'TATAAA'), (933790, 'TATAAA'), (935087, 'TATATA'), (936030, 'TATAAA'), (936257, 'TATAAA'), (936707, 'TATAAA'), (936925, 'TATAAA'), (937005, 'TATAAA'), (937667, 'TATAAA'), (937680, 'TATAAA'), (938939, 'TATAAA'), (940296, 'TATAAA'), (941076, 'TATATA'), (941203, 'TATAAA'), (941669, 'TATAAA'), (942191, 'TATAAA'), (942841, 'TATAAA'), (942917, 'TATAAA'), (942936, 'TATAAA'), (942988, 'TATAAA'), (943040, 'TATAAA'), (943066, 'TATAAA'), (944893, 'TATAAA'), (945214, 'TATATA'), (946158, 'TATATA'), (946186, 'TATAAA'), (946368, 'TATAAA'), (948196, 'TATAAA'), (948251, 'TATAAA'), (948380, 'TATATA'), (948425, 'TATATA'), (949042, 'TATAAA'), (949257, 'TATAAA'), (950152, 'TATATA'), (953539, 'TATAAA'), (954232, 'TATAAA'), (954890, 'TATAAA'), (955299, 'TATAAA'), (955309, 'TATATA'), (955476, 'TATATA'), (956140, 'TATATA'), (956155, 'TATAAA'), (957014, 'TATAAA'), (957305, 'TATATA'), (957691, 'TATATA'), (957705, 'TATATA'), (958486, 'TATAAA'), (958497, 'TATATA'), (958854, 'TATAAA'), (960253, 'TATAAA'), (961087, 'TATAAA'), (961794, 'TATAAA'), (961928, 'TATAAA'), (965282, 'TATATA'), (965678, 'TATAAA'), (966914, 'TATATA'), (967043, 'TATAAA'), (967718, 'TATATA'), (967926, 'TATAAA'), (968255, 'TATATA'), (968276, 'TATATA'), (969086, 'TATAAA'), (970675, 'TATATA'), (971564, 'TATATA'), (971679, 'TATATA'), (972835, 'TATATA'), (972868, 'TATAAA'), (972990, 'TATAAA'), (973143, 'TATATA'), (973624, 'TATAAA'), (975497, 'TATATA'), (976208, 'TATAAA'), (976694, 'TATATA'), (977315, 'TATAAA'), (977804, 'TATAAA'), (978052, 'TATAAA'), (978795, 'TATAAA'), (979102, 'TATAAA'), (979198, 'TATATA'), (979329, 'TATAAA'), (979729, 'TATAAA'), (980224, 'TATAAA'), (981276, 'TATAAA'), (981680, 'TATAAA'), (983240, 'TATATA'), (983943, 'TATAAA'), (984319, 'TATATA'), (984411, 'TATAAA'), (984653, 'TATAAA'), (984737, 'TATATA'), (984745, 'TATATA'), (985356, 'TATATA'), (986412, 'TATAAA'), (986689, 'TATATA'), (988363, 'TATAAA'), (988425, 'TATAAA'), (988734, 'TATAAA'), (988886, 'TATAAA'), (989018, 'TATATA'), (989176, 'TATATA'), (989186, 'TATAAA'), (989960, 'TATATA'), (990226, 'TATAAA'), (990558, 'TATAAA'), (991043, 'TATATA'), (992174, 'TATAAA'), (992723, 'TATAAA'), (993130, 'TATAAA'), (993716, 'TATAAA'), (995276, 'TATAAA'), (996408, 'TATAAA'), (996720, 'TATAAA'), (997324, 'TATAAA'), (997842, 'TATAAA'), (999555, 'TATAAA'), (1000302, 'TATAAA'), (1001487, 'TATATA'), (1002920, 'TATAAA'), (1003508, 'TATAAA'), (1003979, 'TATATA'), (1004268, 'TATAAA'), (1004616, 'TATAAA'), (1004633, 'TATAAA'), (1004750, 'TATAAA'), (1004932, 'TATAAA'), (1005031, 'TATAAA'), (1005648, 'TATAAA'), (1005673, 'TATATA'), (1007468, 'TATAAA'), (1008400, 'TATAAA'), (1008603, 'TATATA'), (1008864, 'TATAAA'), (1010064, 'TATATA'), (1010121, 'TATAAA'), (1010818, 'TATAAA'), (1010933, 'TATAAA'), (1012135, 'TATAAA'), (1013303, 'TATATA'), (1013589, 'TATATA'), (1013754, 'TATAAA'), (1014561, 'TATATA'), (1015075, 'TATATA'), (1015160, 'TATATA'), (1015302, 'TATAAA'), (1015358, 'TATATA'), (1015408, 'TATAAA'), (1016221, 'TATAAA'), (1017036, 'TATAAA'), (1017127, 'TATATA'), (1018783, 'TATATA'), (1019165, 'TATAAA'), (1022068, 'TATATA'), (1023062, 'TATATA'), (1023084, 'TATATA'), (1023260, 'TATAAA'), (1024299, 'TATAAA'), (1024829, 'TATAAA'), (1025117, 'TATATA'), (1025885, 'TATATA'), (1026848, 'TATATA'), (1027951, 'TATAAA'), (1028391, 'TATAAA'), (1028686, 'TATAAA'), (1028701, 'TATAAA'), (1028794, 'TATAAA'), (1029649, 'TATATA'), (1029689, 'TATAAA'), (1029882, 'TATAAA'), (1030032, 'TATAAA'), (1030163, 'TATAAA'), (1030403, 'TATATA'), (1030755, 'TATAAA'), (1031727, 'TATAAA'), (1031915, 'TATATA'), (1032341, 'TATAAA'), (1032461, 'TATAAA'), (1032800, 'TATAAA'), (1032813, 'TATAAA'), (1032986, 'TATATA'), (1033035, 'TATAAA'), (1033215, 'TATAAA'), (1034720, 'TATAAA'), (1036179, 'TATAAA'), (1036287, 'TATATA'), (1036358, 'TATATA'), (1036765, 'TATATA'), (1036930, 'TATATA'), (1037029, 'TATAAA'), (1037060, 'TATAAA'), (1037476, 'TATATA'), (1038173, 'TATATA'), (1038632, 'TATATA'), (1039338, 'TATAAA'), (1039487, 'TATAAA'), (1039603, 'TATAAA'), (1039896, 'TATATA'), (1040669, 'TATAAA'), (1043276, 'TATATA'), (1043722, 'TATATA'), (1044417, 'TATAAA'), (1045376, 'TATAAA'), (1046439, 'TATAAA'), (1047393, 'TATAAA'), (1047813, 'TATAAA'), (1048038, 'TATAAA'), (1048213, 'TATAAA'), (1048488, 'TATATA'), (1048783, 'TATATA'), (1048994, 'TATAAA'), (1049013, 'TATATA'), (1049207, 'TATAAA'), (1049264, 'TATATA'), (1049497, 'TATAAA'), (1049679, 'TATATA'), (1051093, 'TATAAA'), (1051374, 'TATAAA'), (1056899, 'TATAAA'), (1058658, 'TATAAA'), (1059270, 'TATAAA'), (1059309, 'TATAAA'), (1060853, 'TATAAA'), (1061027, 'TATAAA'), (1061948, 'TATAAA'), (1062006, 'TATATA'), (1063215, 'TATATA'), (1063656, 'TATAAA'), (1064561, 'TATATA'), (1064620, 'TATAAA'), (1064836, 'TATAAA'), (1064949, 'TATAAA'), (1065751, 'TATATA'), (1065772, 'TATATA'), (1066421, 'TATAAA'), (1066449, 'TATATA'), (1066607, 'TATATA'), (1066735, 'TATATA'), (1066982, 'TATATA'), (1067201, 'TATAAA'), (1068714, 'TATATA'), (1068856, 'TATAAA'), (1073079, 'TATAAA'), (1073097, 'TATAAA'), (1073761, 'TATATA'), (1074292, 'TATAAA'), (1074395, 'TATAAA'), (1075702, 'TATAAA'), (1076138, 'TATAAA'), (1076300, 'TATAAA'), (1076687, 'TATAAA'), (1076879, 'TATAAA'), (1076999, 'TATAAA'), (1077059, 'TATAAA'), (1077296, 'TATAAA'), (1077312, 'TATATA'), (1077542, 'TATATA'), (1078148, 'TATAAA'), (1084435, 'TATATA'), (1085276, 'TATAAA'), (1085416, 'TATATA'), (1086304, 'TATATA'), (1086695, 'TATAAA'), (1087301, 'TATAAA'), (1088038, 'TATATA'), (1093707, 'TATAAA'), (1096168, 'TATATA'), (1096206, 'TATATA'), (1096300, 'TATAAA'), (1096357, 'TATAAA'), (1096400, 'TATATA'), (1096468, 'TATAAA'), (1097065, 'TATAAA'), (1099194, 'TATATA'), (1099916, 'TATATA'), (1100154, 'TATAAA'), (1100597, 'TATAAA'), (1100656, 'TATATA'), (1101423, 'TATAAA'), (1101961, 'TATAAA'), (1102760, 'TATATA'), (1102922, 'TATAAA'), (1103210, 'TATAAA'), (1103297, 'TATAAA'), (1103697, 'TATATA'), (1104254, 'TATAAA'), (1104815, 'TATATA'), (1105208, 'TATAAA'), (1105422, 'TATATA'), (1105541, 'TATAAA'), (1106080, 'TATATA'), (1107210, 'TATATA'), (1107379, 'TATATA'), (1107619, 'TATAAA'), (1108225, 'TATATA'), (1109592, 'TATATA'), (1110179, 'TATAAA'), (1110196, 'TATATA'), (1111559, 'TATAAA'), (1112812, 'TATATA'), (1113072, 'TATATA'), (1114517, 'TATATA'), (1116163, 'TATAAA'), (1116257, 'TATAAA'), (1118027, 'TATATA'), (1119285, 'TATAAA'), (1119749, 'TATAAA'), (1120165, 'TATAAA'), (1120335, 'TATAAA'), (1120493, 'TATATA'), (1120541, 'TATATA'), (1121855, 'TATATA'), (1121960, 'TATATA'), (1122324, 'TATAAA'), (1123397, 'TATAAA'), (1124561, 'TATAAA'), (1124869, 'TATATA'), (1124885, 'TATAAA'), (1124931, 'TATAAA'), (1125475, 'TATATA'), (1126199, 'TATAAA'), (1126688, 'TATAAA'), (1128591, 'TATAAA'), (1128705, 'TATAAA'), (1130404, 'TATATA'), (1130567, 'TATATA'), (1130685, 'TATATA'), (1130887, 'TATATA'), (1131947, 'TATATA'), (1132477, 'TATATA'), (1133226, 'TATATA'), (1133357, 'TATAAA'), (1133585, 'TATAAA'), (1134130, 'TATAAA'), (1135116, 'TATAAA'), (1135839, 'TATATA'), (1136060, 'TATAAA'), (1136084, 'TATATA'), (1136275, 'TATATA'), (1138291, 'TATATA'), (1138713, 'TATATA'), (1138928, 'TATATA'), (1139118, 'TATATA'), (1139140, 'TATAAA'), (1139307, 'TATAAA'), (1139473, 'TATAAA'), (1139484, 'TATAAA'), (1139542, 'TATATA'), (1139767, 'TATATA'), (1140693, 'TATAAA'), (1140952, 'TATAAA'), (1141306, 'TATAAA'), (1141453, 'TATAAA'), (1141811, 'TATATA'), (1142084, 'TATATA'), (1143018, 'TATATA'), (1143549, 'TATATA'), (1144899, 'TATATA'), (1145705, 'TATATA'), (1145714, 'TATATA'), (1146283, 'TATAAA'), (1146316, 'TATAAA'), (1146338, 'TATAAA'), (1146527, 'TATATA'), (1146848, 'TATATA'), (1146866, 'TATATA'), (1147258, 'TATATA'), (1147384, 'TATAAA'), (1147427, 'TATATA'), (1148950, 'TATATA'), (1149433, 'TATATA'), (1149632, 'TATAAA'), (1149660, 'TATATA'), (1149699, 'TATAAA'), (1149810, 'TATATA'), (1149829, 'TATATA'), (1151424, 'TATAAA'), (1151689, 'TATAAA'), (1151965, 'TATATA'), (1152871, 'TATAAA'), (1153556, 'TATAAA'), (1153778, 'TATAAA'), (1153980, 'TATAAA'), (1155054, 'TATATA'), (1155063, 'TATATA'), (1155213, 'TATAAA'), (1155955, 'TATAAA'), (1158343, 'TATAAA'), (1158374, 'TATAAA'), (1158529, 'TATAAA'), (1158966, 'TATAAA'), (1159531, 'TATATA'), (1160085, 'TATAAA'), (1160206, 'TATAAA'), (1160757, 'TATAAA'), (1162642, 'TATAAA'), (1162789, 'TATATA'), (1163723, 'TATATA'), (1163859, 'TATAAA'), (1164016, 'TATATA'), (1164344, 'TATATA'), (1164727, 'TATAAA'), (1165058, 'TATATA'), (1165727, 'TATATA'), (1165743, 'TATATA'), (1166644, 'TATAAA'), (1167817, 'TATAAA'), (1168107, 'TATAAA'), (1169418, 'TATATA'), (1169487, 'TATATA'), (1169586, 'TATATA'), (1169953, 'TATAAA'), (1169963, 'TATAAA'), (1170017, 'TATAAA'), (1172184, 'TATAAA'), (1174194, 'TATAAA'), (1175340, 'TATATA'), (1175400, 'TATATA'), (1175645, 'TATATA'), (1175661, 'TATAAA'), (1175677, 'TATAAA'), (1175696, 'TATATA'), (1176248, 'TATAAA'), (1176362, 'TATAAA'), (1176421, 'TATAAA'), (1176994, 'TATAAA'), (1177806, 'TATATA'), (1178253, 'TATAAA'), (1179637, 'TATATA'), (1179655, 'TATAAA'), (1179780, 'TATATA'), (1179819, 'TATAAA'), (1180134, 'TATAAA'), (1180270, 'TATAAA'), (1180803, 'TATATA'), (1181201, 'TATATA'), (1181745, 'TATAAA'), (1182212, 'TATAAA'), (1183208, 'TATAAA'), (1183422, 'TATATA'), (1184130, 'TATATA'), (1184989, 'TATAAA'), (1185130, 'TATATA'), (1185307, 'TATATA'), (1186226, 'TATATA'), (1186615, 'TATAAA'), (1186882, 'TATAAA'), (1187147, 'TATATA'), (1187164, 'TATAAA'), (1187286, 'TATATA'), (1188123, 'TATAAA'), (1189580, 'TATATA'), (1189671, 'TATAAA'), (1189976, 'TATAAA'), (1191057, 'TATATA'), (1193362, 'TATAAA'), (1193585, 'TATATA'), (1193955, 'TATAAA'), (1194145, 'TATAAA'), (1195179, 'TATAAA'), (1198079, 'TATAAA'), (1199211, 'TATATA'), (1201124, 'TATAAA'), (1201636, 'TATAAA'), (1201646, 'TATAAA'), (1202700, 'TATAAA'), (1203317, 'TATAAA'), (1204340, 'TATAAA'), (1204844, 'TATATA'), (1205228, 'TATAAA'), (1205777, 'TATAAA'), (1205855, 'TATAAA'), (1205987, 'TATATA'), (1206586, 'TATATA'), (1207097, 'TATAAA'), (1207208, 'TATAAA'), (1207546, 'TATAAA'), (1208118, 'TATAAA'), (1208360, 'TATAAA'), (1208669, 'TATAAA'), (1209306, 'TATAAA'), (1210385, 'TATATA'), (1210969, 'TATATA'), (1211018, 'TATATA'), (1211159, 'TATAAA'), (1211388, 'TATAAA'), (1213370, 'TATAAA'), (1213940, 'TATATA'), (1214846, 'TATAAA'), (1215364, 'TATAAA'), (1216133, 'TATAAA'), (1216272, 'TATATA'), (1218275, 'TATATA'), (1218313, 'TATAAA'), (1218323, 'TATAAA'), (1218345, 'TATAAA'), (1218355, 'TATAAA'), (1218387, 'TATAAA'), (1219047, 'TATATA'), (1219807, 'TATATA'), (1220390, 'TATATA'), (1220474, 'TATATA'), (1220495, 'TATATA'), (1220842, 'TATAAA'), (1221716, 'TATAAA')]\n"
          ]
        }
      ],
      "source": [
        "from Bio import SeqIO\n",
        "import re\n",
        "\n",
        "# Function to find motifs in a DNA sequence\n",
        "def find_motif(sequence, pattern):\n",
        "    matches = [(m.start(), m.group()) for m in re.finditer(pattern, str(sequence))]\n",
        "    return matches\n",
        "\n",
        "# Load the genome FASTA file\n",
        "fasta_file = list(uploaded.keys())[0]  # Automatically selects the uploaded file\n",
        "record = SeqIO.read(fasta_file, \"fasta\")  # Read the first sequence\n",
        "genome_seq = record.seq  # Extract genome sequence\n",
        "\n",
        "# Define a motif pattern (Example: TATA box promoter region)\n",
        "motif_pattern = r'TATA[AT]A'  # This looks for a \"TATA\" promoter box\n",
        "\n",
        "# Find motif occurrences\n",
        "motif_matches = find_motif(genome_seq, motif_pattern)\n",
        "\n",
        "# Print results\n",
        "if motif_matches:\n",
        "    print(f\"Motif found at positions: {motif_matches}\")\n",
        "else:\n",
        "    print(\"No motif found.\")\n"
      ]
    },
    {
      "cell_type": "markdown",
      "metadata": {
        "id": "64f7JA-ckTdi"
      },
      "source": [
        "**Pairwise sequence alignment of two DNA sequences**"
      ]
    },
    {
      "cell_type": "code",
      "execution_count": null,
      "metadata": {
        "colab": {
          "base_uri": "https://localhost:8080/"
        },
        "id": "ioi6_N4xkWUB",
        "outputId": "d7672aa5-6929-46d1-a51f-8815961080ba"
      },
      "outputs": [
        {
          "name": "stdout",
          "output_type": "stream",
          "text": [
            "target            0 ATGC-TAGCTAGCTAG 15\n",
            "                  0 ||||-||||||||||- 16\n",
            "query             0 ATGCGTAGCTAGCTA- 15\n",
            "\n"
          ]
        }
      ],
      "source": [
        "from Bio import SeqIO\n",
        "from Bio.Align import PairwiseAligner\n",
        "\n",
        "# Define two DNA sequences (you can also load from FASTA files)\n",
        "seq1 = \"ATGCTAGCTAGCTAG\"\n",
        "seq2 = \"ATGCGTAGCTAGCTA\"\n",
        "\n",
        "# Create aligner\n",
        "aligner = PairwiseAligner()\n",
        "aligner.mode = \"global\"  # Global alignment\n",
        "\n",
        "# Perform alignment\n",
        "alignments = aligner.align(seq1, seq2)\n",
        "\n",
        "# Print the best alignment\n",
        "for alignment in alignments:\n",
        "    print(alignment)\n",
        "    break  # Print only the first (best) alignment\n"
      ]
    }
  ],
  "metadata": {
    "colab": {
      "provenance": [],
      "authorship_tag": "ABX9TyOqpyFfAS7E6bRXP1W2CEAT",
      "include_colab_link": true
    },
    "kernelspec": {
      "display_name": "Python 3",
      "name": "python3"
    },
    "language_info": {
      "name": "python"
    }
  },
  "nbformat": 4,
  "nbformat_minor": 0
}